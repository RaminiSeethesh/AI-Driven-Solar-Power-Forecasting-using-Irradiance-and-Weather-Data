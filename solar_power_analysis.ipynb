{
 "cells": [
  {
   "cell_type": "markdown",
   "metadata": {},
   "source": [
    "# Solar Power Prediction Model\n",
    "## Renewable Energy Forecasting using Machine Learning"
   ]
  },
  {
   "cell_type": "code",
   "execution_count": null,
   "metadata": {},
   "outputs": [],
   "source": [
    "import pandas as pd\n",
    "import numpy as np\n",
    "from sklearn.model_selection import train_test_split\n",
    "from sklearn.preprocessing import StandardScaler\n",
    "from sklearn.ensemble import RandomForestRegressor\n",
    "from sklearn.linear_model import LinearRegression\n",
    "from sklearn.metrics import mean_squared_error, mean_absolute_error, r2_score\n",
    "import matplotlib.pyplot as plt\n",
    "import seaborn as sns\n",
    "\n",
    "plt.style.use('seaborn-v0_8')\n",
    "sns.set_palette(\"husl\")"
   ]
  },
  {
   "cell_type": "markdown",
   "metadata": {},
   "source": [
    "## 1. Data Loading and Preprocessing"
   ]
  },
  {
   "cell_type": "code",
   "execution_count": null,
   "metadata": {},
   "outputs": [],
   "source": [
    "# Load your dataset\n",
    "# df = pd.read_csv('your_solar_data.csv')\n",
    "\n",
    "# Sample data generation for demonstration\n",
    "np.random.seed(42)\n",
    "n_samples = 2000\n",
    "dates = pd.date_range('2023-01-01', periods=n_samples, freq='H')\n",
    "\n",
    "df = pd.DataFrame({\n",
    "    'Date and Time': dates,\n",
    "    'Global Irradiance (GHI)': np.random.normal(400, 200, n_samples).clip(0, 1000),\n",
    "    'Direct Normal Irradiance (DNI)': np.random.normal(300, 150, n_samples).clip(0, 800),\n",
    "    'Azimuth Angle': np.random.uniform(0, 360, n_samples),\n",
    "    'Dry Bulb Temperature': np.random.normal(25, 10, n_samples),\n",
    "    'Wet Bulb Temperature': np.random.normal(20, 8, n_samples),\n",
    "    'Dew Point Temperature': np.random.normal(15, 8, n_samples),\n",
    "    'Relative Humidity': np.random.uniform(30, 90, n_samples),\n",
    "    'Cloud Coverage': np.random.uniform(0, 100, n_samples)\n",
    "})\n",
    "\n",
    "# Create realistic solar power output\n",
    "df['Solar Power (kWh)'] = (\n",
    "    0.005 * df['Global Irradiance (GHI)'] + \n",
    "    0.003 * df['Direct Normal Irradiance (DNI)'] +\n",
    "    0.01 * df['Dry Bulb Temperature'] -\n",
    "    0.002 * df['Cloud Coverage'] +\n",
    "    np.random.normal(0, 0.5, n_samples)\n",
    ").clip(0, None)\n",
    "\n",
    "print(f\"Dataset shape: {df.shape}\")\n",
    "df.head()"
   ]
  },
  {
   "cell_type": "code",
   "execution_count": null,
   "metadata": {},
   "outputs": [],
   "source": [
    "# Check for missing values\n",
    "print(\"Missing values:\")\n",
    "print(df.isnull().sum())\n",
    "\n",
    "# Handle missing values\n",
    "df = df.fillna(df.median(numeric_only=True))\n",
    "\n",
    "# Basic statistics\n",
    "df.describe()"
   ]
  },
  {
   "cell_type": "markdown",
   "metadata": {},
   "source": [
    "## 2. Feature Engineering"
   ]
  },
  {
   "cell_type": "code",
   "execution_count": null,
   "metadata": {},
   "outputs": [],
   "source": [
    "# Convert datetime and extract features\n",
    "df['DateTime'] = pd.to_datetime(df['Date and Time'])\n",
    "df['Hour'] = df['DateTime'].dt.hour\n",
    "df['Day'] = df['DateTime'].dt.day\n",
    "df['Month'] = df['DateTime'].dt.month\n",
    "df['DayOfYear'] = df['DateTime'].dt.dayofyear\n",
    "df['Season'] = df['Month'].map({12:0, 1:0, 2:0, 3:1, 4:1, 5:1, \n",
    "                               6:2, 7:2, 8:2, 9:3, 10:3, 11:3})\n",
    "\n",
    "# Cyclical encoding for time features\n",
    "df['Hour_sin'] = np.sin(2 * np.pi * df['Hour'] / 24)\n",
    "df['Hour_cos'] = np.cos(2 * np.pi * df['Hour'] / 24)\n",
    "df['Month_sin'] = np.sin(2 * np.pi * df['Month'] / 12)\n",
    "df['Month_cos'] = np.cos(2 * np.pi * df['Month'] / 12)\n",
    "\n",
    "print(\"New features created:\")\n",
    "print(df[['Hour', 'Month', 'Season', 'Hour_sin', 'Hour_cos']].head())"
   ]
  },
  {
   "cell_type": "markdown",
   "metadata": {},
   "source": [
    "## 3. Exploratory Data Analysis"
   ]
  },
  {
   "cell_type": "code",
   "execution_count": null,
   "metadata": {},
   "outputs": [],
   "source": [
    "# Correlation matrix\n",
    "numeric_cols = df.select_dtypes(include=[np.number]).columns\n",
    "correlation_matrix = df[numeric_cols].corr()\n",
    "\n",
    "plt.figure(figsize=(12, 10))\n",
    "sns.heatmap(correlation_matrix, annot=True, cmap='coolwarm', center=0, fmt='.2f')\n",
    "plt.title('Feature Correlation Matrix')\n",
    "plt.tight_layout()\n",
    "plt.show()"
   ]
  },
  {
   "cell_type": "code",
   "execution_count": null,
   "metadata": {},
   "outputs": [],
   "source": [
    "# Solar power distribution by hour\n",
    "plt.figure(figsize=(12, 4))\n",
    "df.groupby('Hour')['Solar Power (kWh)'].mean().plot(kind='bar')\n",
    "plt.title('Average Solar Power Output by Hour')\n",
    "plt.xlabel('Hour of Day')\n",
    "plt.ylabel('Solar Power (kWh)')\n",
    "plt.xticks(rotation=0)\n",
    "plt.tight_layout()\n",
    "plt.show()"
   ]
  },
  {
   "cell_type": "markdown",
   "metadata": {},
   "source": [
    "## 4. Model Training and Evaluation"
   ]
  },
  {
   "cell_type": "code",
   "execution_count": null,
   "metadata": {},
   "outputs": [],
   "source": [
    "# Prepare features\n",
    "feature_cols = [\n",
    "    'Global Irradiance (GHI)', 'Direct Normal Irradiance (DNI)',\n",
    "    'Azimuth Angle', 'Dry Bulb Temperature', 'Wet Bulb Temperature',\n",
    "    'Dew Point Temperature', 'Relative Humidity', 'Cloud Coverage',\n",
    "    'Hour', 'Month', 'Season', 'DayOfYear',\n",
    "    'Hour_sin', 'Hour_cos', 'Month_sin', 'Month_cos'\n",
    "]\n",
    "\n",
    "X = df[feature_cols]\n",
    "y = df['Solar Power (kWh)']\n",
    "\n",
    "# Scale features\n",
    "scaler = StandardScaler()\n",
    "X_scaled = scaler.fit_transform(X)\n",
    "X_scaled = pd.DataFrame(X_scaled, columns=feature_cols)\n",
    "\n",
    "# Train-test split\n",
    "X_train, X_test, y_train, y_test = train_test_split(\n",
    "    X_scaled, y, test_size=0.2, random_state=42\n",
    ")\n",
    "\n",
    "print(f\"Training set: {X_train.shape}\")\n",
    "print(f\"Test set: {X_test.shape}\")"
   ]
  },
  {
   "cell_type": "code",
   "execution_count": null,
   "metadata": {},
   "outputs": [],
   "source": [
    "# Train models\n",
    "models = {}\n",
    "\n",
    "# Random Forest\n",
    "models['Random Forest'] = RandomForestRegressor(n_estimators=100, random_state=42, n_jobs=-1)\n",
    "models['Random Forest'].fit(X_train, y_train)\n",
    "\n",
    "# Linear Regression\n",
    "models['Linear Regression'] = LinearRegression()\n",
    "models['Linear Regression'].fit(X_train, y_train)\n",
    "\n",
    "print(\"Models trained successfully!\")"
   ]
  },
  {
   "cell_type": "code",
   "execution_count": null,
   "metadata": {},
   "outputs": [],
   "source": [
    "# Evaluate models\n",
    "results = {}\n",
    "\n",
    "for name, model in models.items():\n",
    "    y_pred = model.predict(X_test)\n",
    "    \n",
    "    results[name] = {\n",
    "        'RMSE': np.sqrt(mean_squared_error(y_test, y_pred)),\n",
    "        'MAE': mean_absolute_error(y_test, y_pred),\n",
    "        'R²': r2_score(y_test, y_pred),\n",
    "        'predictions': y_pred\n",
    "    }\n",
    "\n",
    "# Display results\n",
    "results_df = pd.DataFrame({name: {k: v for k, v in metrics.items() if k != 'predictions'} \n",
    "                          for name, metrics in results.items()}).T\n",
    "print(\"Model Performance:\")\n",
    "print(results_df.round(4))"
   ]
  },
  {
   "cell_type": "markdown",
   "metadata": {},
   "source": [
    "## 5. Results Visualization"
   ]
  },
  {
   "cell_type": "code",
   "execution_count": null,
   "metadata": {},
   "outputs": [],
   "source": [
    "# Plot actual vs predicted\n",
    "fig, axes = plt.subplots(1, 2, figsize=(15, 5))\n",
    "\n",
    "for i, (name, metrics) in enumerate(results.items()):\n",
    "    axes[i].scatter(y_test, metrics['predictions'], alpha=0.6, s=20)\n",
    "    axes[i].plot([y_test.min(), y_test.max()], [y_test.min(), y_test.max()], 'r--', lw=2)\n",
    "    axes[i].set_xlabel('Actual Solar Power (kWh)')\n",
    "    axes[i].set_ylabel('Predicted Solar Power (kWh)')\n",
    "    axes[i].set_title(f'{name}\\nR² = {metrics[\"R²\"]:.3f}, RMSE = {metrics[\"RMSE\"]:.3f}')\n",
    "    axes[i].grid(True, alpha=0.3)\n",
    "\n",
    "plt.tight_layout()\n",
    "plt.show()"
   ]
  },
  {
   "cell_type": "code",
   "execution_count": null,
   "metadata": {},
   "outputs": [],
   "source": [
    "# Feature importance (Random Forest)\n",
    "rf_model = models['Random Forest']\n",
    "feature_importance = pd.DataFrame({\n",
    "    'feature': feature_cols,\n",
    "    'importance': rf_model.feature_importances_\n",
    "}).sort_values('importance', ascending=True)\n",
    "\n",
    "plt.figure(figsize=(10, 8))\n",
    "plt.barh(feature_importance['feature'], feature_importance['importance'])\n",
    "plt.xlabel('Feature Importance')\n",
    "plt.title('Random Forest Feature Importance')\n",
    "plt.tight_layout()\n",
    "plt.show()\n",
    "\n",
    "print(\"Top 5 Most Important Features:\")\n",
    "print(feature_importance.tail().iloc[::-1])"
   ]
  },
  {
   "cell_type": "markdown",
   "metadata": {},
   "source": [
    "## 6. Model Deployment Preparation"
   ]
  },
  {
   "cell_type": "code",
   "execution_count": null,
   "metadata": {},
   "outputs": [],
   "source": [
    "# Save the best model and scaler\n",
    "import joblib\n",
    "\n",
    "best_model_name = max(results.keys(), key=lambda x: results[x]['R²'])\n",
    "best_model = models[best_model_name]\n",
    "\n",
    "# Save model and scaler\n",
    "joblib.dump(best_model, 'solar_power_model.pkl')\n",
    "joblib.dump(scaler, 'feature_scaler.pkl')\n",
    "\n",
    "print(f\"Best model ({best_model_name}) saved as 'solar_power_model.pkl'\")\n",
    "print(f\"Feature scaler saved as 'feature_scaler.pkl'\")\n",
    "print(f\"Best model R² score: {results[best_model_name]['R²']:.4f}\")"
   ]
  }
 ],
 "metadata": {
  "kernelspec": {
   "display_name": "Python 3 (ipykernel)",
   "language": "python",
   "name": "python3"
  },
  "language_info": {
   "codemirror_mode": {
    "name": "ipython",
    "version": 3
   },
   "file_extension": ".py",
   "mimetype": "text/x-python",
   "name": "python",
   "nbconvert_exporter": "python",
   "pygments_lexer": "ipython3",
   "version": "3.13.7"
  }
 },
 "nbformat": 4,
 "nbformat_minor": 4
}
